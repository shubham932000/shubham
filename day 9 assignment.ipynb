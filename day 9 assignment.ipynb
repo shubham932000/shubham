{
 "cells": [
  {
   "cell_type": "code",
   "execution_count": 1,
   "metadata": {},
   "outputs": [
    {
     "name": "stdout",
     "output_type": "stream",
     "text": [
      "Requirement already satisfied: pylint in c:\\users\\shubham\\anaconda3\\lib\\site-packages (2.5.3)\n",
      "Requirement already satisfied: mccabe<0.7,>=0.6 in c:\\users\\shubham\\anaconda3\\lib\\site-packages (from pylint) (0.6.1)\n",
      "Requirement already satisfied: astroid<=2.5,>=2.4.0 in c:\\users\\shubham\\anaconda3\\lib\\site-packages (from pylint) (2.4.2)\n",
      "Requirement already satisfied: toml>=0.7.1 in c:\\users\\shubham\\anaconda3\\lib\\site-packages (from pylint) (0.10.1)\n",
      "Requirement already satisfied: isort<5,>=4.2.5 in c:\\users\\shubham\\anaconda3\\lib\\site-packages (from pylint) (4.3.21)\n",
      "Requirement already satisfied: colorama; sys_platform == \"win32\" in c:\\users\\shubham\\anaconda3\\lib\\site-packages (from pylint) (0.4.3)\n",
      "Requirement already satisfied: six~=1.12 in c:\\users\\shubham\\anaconda3\\lib\\site-packages (from astroid<=2.5,>=2.4.0->pylint) (1.15.0)\n",
      "Requirement already satisfied: lazy-object-proxy==1.4.* in c:\\users\\shubham\\anaconda3\\lib\\site-packages (from astroid<=2.5,>=2.4.0->pylint) (1.4.3)\n",
      "Requirement already satisfied: wrapt~=1.11 in c:\\users\\shubham\\anaconda3\\lib\\site-packages (from astroid<=2.5,>=2.4.0->pylint) (1.11.2)\n"
     ]
    }
   ],
   "source": [
    "!pip install pylint"
   ]
  },
  {
   "cell_type": "code",
   "execution_count": 18,
   "metadata": {},
   "outputs": [
    {
     "name": "stdout",
     "output_type": "stream",
     "text": [
      "Writing even.py\n"
     ]
    }
   ],
   "source": [
    "%%writefile even.py\n",
    "\n",
    "'''\n",
    "this is file for even and odd\n",
    "'''\n",
    "\n",
    "def Even(num):\n",
    "    '''\n",
    "    this is function for even and odd\n",
    "    '''\n",
    "    \n",
    "    if (num%2 == 0):\n",
    "        \n",
    "        return \"its even number\"\n",
    "    \n",
    "    \n",
    "       "
   ]
  },
  {
   "cell_type": "code",
   "execution_count": 21,
   "metadata": {},
   "outputs": [
    {
     "name": "stdout",
     "output_type": "stream",
     "text": [
      "Overwriting even_odd_testing.py\n"
     ]
    }
   ],
   "source": [
    "%%writefile even_odd_testing.py\n",
    "\n",
    "import unittest\n",
    "import even\n",
    "\n",
    "\n",
    "class evevoddtesting(unittest.TestCase):\n",
    "    def numtesting(self):   # TestCase 1\n",
    "        temp_num = 4\n",
    "        result = even_odd_testing.Even(temp_num)\n",
    "        #Important line\n",
    "        self.assertAlmostEqual(result, \"its even number\")\n",
    "        \n",
    "if __name__ == \"__main__\":\n",
    "    unittest.main()\n",
    "        "
   ]
  },
  {
   "cell_type": "code",
   "execution_count": 22,
   "metadata": {},
   "outputs": [
    {
     "name": "stdout",
     "output_type": "stream",
     "text": [
      "************* Module even_odd\n",
      "even_odd.py:10:0: C0303: Trailing whitespace (trailing-whitespace)\n",
      "even_odd.py:11:0: C0325: Unnecessary parens after 'if' keyword (superfluous-parens)\n",
      "even_odd.py:12:0: C0303: Trailing whitespace (trailing-whitespace)\n",
      "even_odd.py:14:0: C0303: Trailing whitespace (trailing-whitespace)\n",
      "even_odd.py:15:0: C0303: Trailing whitespace (trailing-whitespace)\n",
      "even_odd.py:16:0: C0303: Trailing whitespace (trailing-whitespace)\n",
      "even_odd.py:6:0: C0103: Function name \"EvenOdd\" doesn't conform to snake_case naming style (invalid-name)\n",
      "even_odd.py:6:0: R1710: Either all return statements in a function should return an expression, or none of them should. (inconsistent-return-statements)\n",
      "\n",
      "----------------------------------------------------------------------\n",
      "\n",
      "Your code has been rated at -16.67/10 (previous run: -16.67/10, +0.00)\n",
      "\n",
      "\n",
      "\n"
     ]
    }
   ],
   "source": [
    "! pylint even_odd.py"
   ]
  },
  {
   "cell_type": "code",
   "execution_count": null,
   "metadata": {},
   "outputs": [],
   "source": []
  }
 ],
 "metadata": {
  "kernelspec": {
   "display_name": "Python 3",
   "language": "python",
   "name": "python3"
  },
  "language_info": {
   "codemirror_mode": {
    "name": "ipython",
    "version": 3
   },
   "file_extension": ".py",
   "mimetype": "text/x-python",
   "name": "python",
   "nbconvert_exporter": "python",
   "pygments_lexer": "ipython3",
   "version": "3.8.3"
  }
 },
 "nbformat": 4,
 "nbformat_minor": 4
}
