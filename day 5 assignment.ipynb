{
 "cells": [
  {
   "cell_type": "markdown",
   "metadata": {},
   "source": [
    "program to identify sub list [1,1,5]"
   ]
  },
  {
   "cell_type": "code",
   "execution_count": 2,
   "metadata": {},
   "outputs": [
    {
     "name": "stdout",
     "output_type": "stream",
     "text": [
      "enter the number of elemets to be added in the list : 6\n",
      "1\n",
      "2\n",
      "3\n",
      "1\n",
      "5\n",
      "4\n",
      "the list is as given below\n",
      "[1, 2, 3, 1, 5, 4]\n",
      "the value of flag is: 1\n",
      "its match\n"
     ]
    }
   ],
   "source": [
    "sublst=[1,1,5]\n",
    "\n",
    "lst=[]\n",
    "\n",
    "n= int(input(\"enter the number of elemets to be added in the list : \"))\n",
    "\n",
    "for i in range(0,n):\n",
    "    ele=int(input ())\n",
    "    \n",
    "    lst.append(ele)\n",
    "    \n",
    "print(\"the list is as given below\")\n",
    "print(lst)\n",
    "\n",
    "flag=0\n",
    "for m in sublst:\n",
    "    \n",
    "    for n in lst:\n",
    "        if m==n:\n",
    "        \n",
    "            flag=1\n",
    "\n",
    "print(\"the value of flag is:\",flag)\n",
    "\n",
    "if(flag):\n",
    "    print(\"its match\")\n",
    "else:\n",
    "    print(\"gone\")"
   ]
  },
  {
   "cell_type": "code",
   "execution_count": null,
   "metadata": {},
   "outputs": [],
   "source": []
  }
 ],
 "metadata": {
  "kernelspec": {
   "display_name": "Python 3",
   "language": "python",
   "name": "python3"
  },
  "language_info": {
   "codemirror_mode": {
    "name": "ipython",
    "version": 3
   },
   "file_extension": ".py",
   "mimetype": "text/x-python",
   "name": "python",
   "nbconvert_exporter": "python",
   "pygments_lexer": "ipython3",
   "version": "3.8.3"
  }
 },
 "nbformat": 4,
 "nbformat_minor": 4
}
