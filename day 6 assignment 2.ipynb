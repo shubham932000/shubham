{
 "cells": [
  {
   "cell_type": "code",
   "execution_count": 1,
   "metadata": {},
   "outputs": [
    {
     "name": "stdout",
     "output_type": "stream",
     "text": [
      "please enter the radius of cone in cm: 5\n",
      "please enter the height of cone in cm: 25\n"
     ]
    }
   ],
   "source": [
    "import math\n",
    "\n",
    "class cone():\n",
    "    def __init__(self,radius,height):\n",
    "        \n",
    "        self.radius=int(radius)\n",
    "        self.height=int(height)\n",
    "        \n",
    "        \n",
    "        \n",
    "    def surface_area(self):\n",
    "        base_area= 3.14 * self.radius**2\n",
    "        print(\"the base area of tha cone is: \"+str(base_area) +\"cm^2\")\n",
    "        \n",
    "        side_area=3.14 * self.radius * (self.radius**2+self.height**2)**0.5\n",
    "        print(\"the side area of the cone is: \"+ str(side_area) +\"cm^2\")\n",
    "        \n",
    "    def volume(self):\n",
    "        \n",
    "        vol=3.14 * self.radius**2 * (self.height/3)\n",
    "        print(\"the volume of the cone is: \"+ str(vol) +\"cm^3\")\n",
    "        \n",
    "cal=cone(int(input(\"please enter the radius of cone in cm: \")),int(input(\"please enter the height of cone in cm: \")))"
   ]
  },
  {
   "cell_type": "code",
   "execution_count": 2,
   "metadata": {},
   "outputs": [
    {
     "name": "stdout",
     "output_type": "stream",
     "text": [
      "the volume of the cone is: 654.1666666666667cm^3\n"
     ]
    }
   ],
   "source": [
    "cal.volume()"
   ]
  },
  {
   "cell_type": "code",
   "execution_count": 3,
   "metadata": {},
   "outputs": [
    {
     "name": "stdout",
     "output_type": "stream",
     "text": [
      "the base area of tha cone is: 78.5cm^2\n",
      "the side area of the cone is: 400.27303181703365cm^2\n"
     ]
    }
   ],
   "source": [
    "cal.surface_area()"
   ]
  },
  {
   "cell_type": "code",
   "execution_count": null,
   "metadata": {},
   "outputs": [],
   "source": []
  }
 ],
 "metadata": {
  "kernelspec": {
   "display_name": "Python 3",
   "language": "python",
   "name": "python3"
  },
  "language_info": {
   "codemirror_mode": {
    "name": "ipython",
    "version": 3
   },
   "file_extension": ".py",
   "mimetype": "text/x-python",
   "name": "python",
   "nbconvert_exporter": "python",
   "pygments_lexer": "ipython3",
   "version": "3.8.3"
  }
 },
 "nbformat": 4,
 "nbformat_minor": 4
}
