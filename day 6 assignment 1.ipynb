{
 "cells": [
  {
   "cell_type": "code",
   "execution_count": 1,
   "metadata": {},
   "outputs": [],
   "source": [
    "class bank_account():\n",
    "    def __init__(self,ownername,balance):\n",
    "        self.ownername = ownername\n",
    "        self.balance = int(balance)\n",
    "    \n",
    "    \n",
    "    def deposit(self):\n",
    "        amount = int(input(\"enter the amount of deposit\"))\n",
    "        \n",
    "        self.balance=self.balance+amount\n",
    "        print(\"amount successfuly depostied\")\n",
    "        print(\"your current  balance is: \",self.balance)\n",
    "        \n",
    "    \n",
    "    \n",
    "    def withdraw(self):\n",
    "        cash=int(input(\"please enter the amount to withdraw: \"))\n",
    "        \n",
    "        if cash>self.balance:\n",
    "            print(\"insufficient balance\")\n",
    "            print(\"please enter amounnt less than:\",self.balance)\n",
    "        else:\n",
    "            self.balance=self.balance-cash\n",
    "            print(\"withdrawl successful\")\n",
    "            print(\"your current balance is:\",self.balance)"
   ]
  },
  {
   "cell_type": "code",
   "execution_count": 2,
   "metadata": {
    "scrolled": false
   },
   "outputs": [
    {
     "name": "stdout",
     "output_type": "stream",
     "text": [
      "enter your name: \n",
      "enter the amount: 2000\n"
     ]
    }
   ],
   "source": [
    "hey_bank=bank_account(input(\"enter your name: \"),int(input(\"enter the amount: \")))"
   ]
  },
  {
   "cell_type": "code",
   "execution_count": 3,
   "metadata": {
    "scrolled": true
   },
   "outputs": [
    {
     "name": "stdout",
     "output_type": "stream",
     "text": [
      "please enter the amount to withdraw: 1200\n",
      "withdrawl successful\n",
      "your current balance is: 800\n"
     ]
    }
   ],
   "source": [
    "hey_bank.withdraw()"
   ]
  },
  {
   "cell_type": "code",
   "execution_count": 4,
   "metadata": {},
   "outputs": [
    {
     "name": "stdout",
     "output_type": "stream",
     "text": [
      "please enter the amount to withdraw: 1000\n",
      "insufficient balance\n",
      "please enter amounnt less than: 800\n"
     ]
    }
   ],
   "source": [
    "hey_bank.withdraw()"
   ]
  },
  {
   "cell_type": "code",
   "execution_count": 5,
   "metadata": {},
   "outputs": [
    {
     "name": "stdout",
     "output_type": "stream",
     "text": [
      "enter the amount of deposit1000\n",
      "amount successfuly depostied\n",
      "your current  balance is:  1800\n"
     ]
    }
   ],
   "source": [
    "hey_bank.deposit()"
   ]
  },
  {
   "cell_type": "code",
   "execution_count": null,
   "metadata": {},
   "outputs": [],
   "source": []
  }
 ],
 "metadata": {
  "kernelspec": {
   "display_name": "Python 3",
   "language": "python",
   "name": "python3"
  },
  "language_info": {
   "codemirror_mode": {
    "name": "ipython",
    "version": 3
   },
   "file_extension": ".py",
   "mimetype": "text/x-python",
   "name": "python",
   "nbconvert_exporter": "python",
   "pygments_lexer": "ipython3",
   "version": "3.8.3"
  }
 },
 "nbformat": 4,
 "nbformat_minor": 4
}
