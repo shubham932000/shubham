{
 "cells": [
  {
   "cell_type": "markdown",
   "metadata": {},
   "source": [
    "# operation"
   ]
  },
  {
   "cell_type": "code",
   "execution_count": 5,
   "metadata": {},
   "outputs": [
    {
     "name": "stdout",
     "output_type": "stream",
     "text": [
      "enter the altitude of your plane6000\n",
      "turn around\n"
     ]
    }
   ],
   "source": [
    "alt=input(\"enter the altitude of your plane\")\n",
    "alt=int(alt)\n",
    "\n",
    "if alt==1000:\n",
    "    print(\"you are safe to land\")\n",
    "elif alt>1000 and alt<=5000:\n",
    "    print(\"bring your plane altitude to 1000 ft\")\n",
    "else:\n",
    "    print(\"turn around\")"
   ]
  }
 ],
 "metadata": {
  "kernelspec": {
   "display_name": "Python 3",
   "language": "python",
   "name": "python3"
  },
  "language_info": {
   "codemirror_mode": {
    "name": "ipython",
    "version": 3
   },
   "file_extension": ".py",
   "mimetype": "text/x-python",
   "name": "python",
   "nbconvert_exporter": "python",
   "pygments_lexer": "ipython3",
   "version": "3.8.3"
  }
 },
 "nbformat": 4,
 "nbformat_minor": 4
}
