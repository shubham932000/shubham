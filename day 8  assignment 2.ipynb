{
 "cells": [
  {
   "cell_type": "code",
   "execution_count": 1,
   "metadata": {},
   "outputs": [
    {
     "name": "stdout",
     "output_type": "stream",
     "text": [
      "There was an error in the file handling \n",
      "Error was -  not writable\n",
      "yup boi you are done with error handling\n"
     ]
    }
   ],
   "source": [
    "file = open(\"error.txt\",\"r\")\n",
    "\n",
    "try:\n",
    "    file.write(\"HI Guys\")\n",
    "except Exception as e:\n",
    "    print(\"There was an error in the file handling \")\n",
    "    print(\"Error was - \", e)\n",
    "finally:\n",
    "    file.close()\n",
    "    \n",
    "print(\"yup boi you are done with error handling\")"
   ]
  },
  {
   "cell_type": "code",
   "execution_count": null,
   "metadata": {},
   "outputs": [],
   "source": []
  }
 ],
 "metadata": {
  "kernelspec": {
   "display_name": "Python 3",
   "language": "python",
   "name": "python3"
  },
  "language_info": {
   "codemirror_mode": {
    "name": "ipython",
    "version": 3
   },
   "file_extension": ".py",
   "mimetype": "text/x-python",
   "name": "python",
   "nbconvert_exporter": "python",
   "pygments_lexer": "ipython3",
   "version": "3.8.3"
  }
 },
 "nbformat": 4,
 "nbformat_minor": 4
}
